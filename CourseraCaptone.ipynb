{
  "nbformat": 4,
  "nbformat_minor": 0,
  "metadata": {
    "colab": {
      "name": "CourseraCaptone.ipynb",
      "provenance": [],
      "authorship_tag": "ABX9TyOv2JhjUVNv1q6btpZYosy7",
      "include_colab_link": true
    },
    "kernelspec": {
      "name": "python3",
      "display_name": "Python 3"
    }
  },
  "cells": [
    {
      "cell_type": "markdown",
      "metadata": {
        "id": "view-in-github",
        "colab_type": "text"
      },
      "source": [
        "<a href=\"https://colab.research.google.com/github/xingyuYE97/Coursera_Capstone/blob/master/CourseraCaptone.ipynb\" target=\"_parent\"><img src=\"https://colab.research.google.com/assets/colab-badge.svg\" alt=\"Open In Colab\"/></a>"
      ]
    },
    {
      "cell_type": "markdown",
      "metadata": {
        "id": "g_2H1FXiTwjO",
        "colab_type": "text"
      },
      "source": [
        "For IBM Capstone on Coursera\n"
      ]
    },
    {
      "cell_type": "code",
      "metadata": {
        "id": "raKYVr4miZTm",
        "colab_type": "code",
        "outputId": "0c7491ec-7373-4ffd-dd6f-cff1e9538b60",
        "colab": {
          "base_uri": "https://localhost:8080/",
          "height": 35
        }
      },
      "source": [
        "# for IBM Capstone on Coursera\n",
        "import pandas as pd\n",
        "import numpy as np\n",
        "print(\"Hello Capstone Project Course!\")"
      ],
      "execution_count": 0,
      "outputs": [
        {
          "output_type": "stream",
          "text": [
            "Hello Capstone Project Course!\n"
          ],
          "name": "stdout"
        }
      ]
    }
  ]
}